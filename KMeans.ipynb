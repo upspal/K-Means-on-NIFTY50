{
 "cells": [
  {
   "cell_type": "code",
   "execution_count": null,
   "metadata": {},
   "outputs": [],
   "source": [
    "import yfinance as yf\n",
    "import pandas as pd\n",
    "import numpy as np\n",
    "import matplotlib.pyplot as plt\n",
    "from sklearn.cluster import KMeans\n",
    "from sklearn.preprocessing import StandardScaler\n",
    "from niftystocks import ns\n",
    "from sklearn.decomposition import PCA"
   ]
  },
  {
   "cell_type": "code",
   "execution_count": null,
   "metadata": {},
   "outputs": [],
   "source": [
    "get_nifty50 = ns.get_nifty50_with_ns()\n",
    "data = yf.download(get_nifty50, start=\"2020-01-01\", end=\"2021-01-01\")"
   ]
  },
  {
   "cell_type": "code",
   "execution_count": null,
   "metadata": {},
   "outputs": [],
   "source": [
    "returns = data['Adj Close'].pct_change()\n",
    "returns = returns.iloc[1:]\n",
    "returns = returns.dropna(axis=1)"
   ]
  },
  {
   "cell_type": "code",
   "execution_count": null,
   "metadata": {},
   "outputs": [],
   "source": [
    "features = [\"Mean Returns\", \"Volatility\", \"Sharpe Ratio\"]\n",
    "cluster_data = pd.DataFrame(index=returns.columns, columns=features)\n",
    "cluster_data[\"Mean Returns\"] = returns.mean()\n",
    "cluster_data[\"Volatility\"] = returns.std()\n",
    "cluster_data[\"Sharpe Ratio\"] = cluster_data[\"Mean Returns\"] / cluster_data[\"Volatility\"]\n"
   ]
  },
  {
   "cell_type": "code",
   "execution_count": null,
   "metadata": {},
   "outputs": [],
   "source": [
    "scaler = StandardScaler()\n",
    "if not cluster_data.empty:\n",
    "    scaled_returns = pd.DataFrame(scaler.fit_transform(cluster_data), index=cluster_data.index, columns=cluster_data.columns)\n",
    "else:\n",
    "    raise ValueError(\"The cluster DataFrame is empty. Ensure that the data is correctly downloaded and processed.\")\n"
   ]
  },
  {
   "cell_type": "code",
   "execution_count": null,
   "metadata": {},
   "outputs": [],
   "source": [
    "kmeans = KMeans(n_clusters=4)\n",
    "kmeans.fit(scaled_returns)\n",
    "clusters = kmeans.predict(scaled_returns)"
   ]
  },
  {
   "cell_type": "code",
   "execution_count": null,
   "metadata": {},
   "outputs": [],
   "source": [
    "print(\"Number of stocks:\", len(returns.columns))\n",
    "print(\"Number of clusters:\", len(clusters))\n",
    "clustered_stocks = pd.DataFrame(list(zip(returns.columns, clusters)), columns=['Stock', 'Cluster'])\n",
    "clustered_stocks.sort_values('Cluster', inplace=True)\n",
    "clustered_stocks.head()"
   ]
  },
  {
   "cell_type": "code",
   "execution_count": null,
   "metadata": {},
   "outputs": [],
   "source": [
    "pca = PCA(n_components=2)\n",
    "pca_components = pca.fit_transform(scaled_returns)\n",
    "\n",
    "plt.scatter(pca_components[:, 0], pca_components[:, 1], c=clusters, cmap='viridis')\n",
    "plt.title('Nifty 50 Clustering based upon Returns')\n",
    "plt.show()"
   ]
  }
 ],
 "metadata": {
  "kernelspec": {
   "display_name": "Python 3",
   "language": "python",
   "name": "python3"
  },
  "language_info": {
   "codemirror_mode": {
    "name": "ipython",
    "version": 3
   },
   "file_extension": ".py",
   "mimetype": "text/x-python",
   "name": "python",
   "nbconvert_exporter": "python",
   "pygments_lexer": "ipython3",
   "version": "3.10.12"
  }
 },
 "nbformat": 4,
 "nbformat_minor": 2
}
