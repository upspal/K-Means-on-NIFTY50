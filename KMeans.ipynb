{
 "cells": [
  {
   "cell_type": "code",
   "execution_count": null,
   "metadata": {},
   "outputs": [],
   "source": [
    "import yfinance as yf\n",
    "import pandas as pd\n",
    "import numpy as np\n",
    "import matplotlib.pyplot as plt\n",
    "from niftystocks import ns\n",
    "from sklearn.decomposition import PCA\n",
    "from IPython.display import clear_output"
   ]
  },
  {
   "cell_type": "code",
   "execution_count": null,
   "metadata": {},
   "outputs": [],
   "source": [
    "get_nifty50 = ns.get_nifty50_with_ns()\n",
    "data = yf.download(get_nifty50, start=\"2020-01-01\", end=\"2021-01-01\")"
   ]
  },
  {
   "cell_type": "code",
   "execution_count": null,
   "metadata": {},
   "outputs": [],
   "source": [
    "returns = data['Adj Close'].pct_change()\n",
    "returns = returns.iloc[1:]\n",
    "returns = returns.dropna(axis=1)"
   ]
  },
  {
   "cell_type": "code",
   "execution_count": null,
   "metadata": {},
   "outputs": [],
   "source": [
    "features = [\"Mean Returns\", \"Volatility\", \"Sharpe Ratio\"]\n",
    "cluster_data = pd.DataFrame(index=returns.columns, columns=features)\n",
    "cluster_data[\"Mean Returns\"] = returns.mean()\n",
    "cluster_data[\"Volatility\"] = returns.std()\n",
    "cluster_data[\"Sharpe Ratio\"] = cluster_data[\"Mean Returns\"] / cluster_data[\"Volatility\"]\n"
   ]
  },
  {
   "cell_type": "code",
   "execution_count": null,
   "metadata": {},
   "outputs": [],
   "source": [
    "cluster_data = cluster_data.dropna(subset=features)"
   ]
  },
  {
   "cell_type": "code",
   "execution_count": null,
   "metadata": {},
   "outputs": [],
   "source": [
    "scaled_data = ((cluster_data - cluster_data.min()) / (cluster_data.max() - cluster_data.min())) * 9 + 1"
   ]
  },
  {
   "cell_type": "code",
   "execution_count": null,
   "metadata": {},
   "outputs": [],
   "source": [
    "def random_centroids(scaled_data,k):\n",
    "    centroids = []\n",
    "    for i in range(k):\n",
    "        centroid = scaled_data.apply(lambda x: float(x.sample()))\n",
    "        centroids.append(centroid)\n",
    "    return pd.concat(centroids,axis=1)    "
   ]
  },
  {
   "cell_type": "code",
   "execution_count": null,
   "metadata": {},
   "outputs": [],
   "source": [
    "def get_labels(scaled_data, centroids):\n",
    "    distances = centroids.apply(lambda x : np.sqrt(((scaled_data - x)**2).sum(axis=1)))\n",
    "    return distances.idxmin(axis=1)"
   ]
  },
  {
   "cell_type": "code",
   "execution_count": null,
   "metadata": {},
   "outputs": [],
   "source": [
    "def new_centroids(scaled_data, labels, k):\n",
    "    centroids = scaled_data.groupby(labels).apply(lambda x: np.exp(np.log(x).mean())).T\n",
    "    return centroids"
   ]
  },
  {
   "cell_type": "code",
   "execution_count": null,
   "metadata": {},
   "outputs": [],
   "source": [
    "def plot_clusters(scaled_data, labels, centroids, interation):\n",
    "    pca = PCA(n_components=2)\n",
    "    data_2d = pca.fit_transform(scaled_data)\n",
    "    centroids_2d = pca.transform(centroids.T)\n",
    "    clear_output(wait=True)\n",
    "    plt.title(\"Iteration: {}\".format(interation))\n",
    "    plt.scatter(data_2d[:,0], data_2d[:,1], c=labels)\n",
    "    plt.scatter(centroids_2d[:,0], centroids_2d[:,1], c='r', s=100)\n",
    "    plt.show()"
   ]
  },
  {
   "cell_type": "code",
   "execution_count": null,
   "metadata": {},
   "outputs": [],
   "source": [
    "max_iterations = 100\n",
    "k = 4\n",
    "\n",
    "centroids = random_centroids(scaled_data, k)\n",
    "old_centroids = pd.DataFrame() \n",
    "iteration = 1\n",
    "\n",
    "while iteration < max_iterations and not centroids.equals(old_centroids):\n",
    "    old_centroids = centroids\n",
    "    labels = get_labels(scaled_data, centroids)\n",
    "    centroids = new_centroids(scaled_data,labels,k)\n",
    "    plot_clusters(scaled_data, labels, centroids, iteration)\n",
    "    iteration += 1"
   ]
  }
 ],
 "metadata": {
  "kernelspec": {
   "display_name": "Python 3",
   "language": "python",
   "name": "python3"
  },
  "language_info": {
   "codemirror_mode": {
    "name": "ipython",
    "version": 3
   },
   "file_extension": ".py",
   "mimetype": "text/x-python",
   "name": "python",
   "nbconvert_exporter": "python",
   "pygments_lexer": "ipython3",
   "version": "3.10.12"
  }
 },
 "nbformat": 4,
 "nbformat_minor": 2
}
