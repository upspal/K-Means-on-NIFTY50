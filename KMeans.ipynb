{
 "cells": [
  {
   "cell_type": "code",
   "execution_count": 131,
   "metadata": {},
   "outputs": [],
   "source": [
    "import yfinance as yf\n",
    "import pandas as pd\n",
    "import numpy as np\n",
    "import matplotlib.pyplot as plt\n",
    "from sklearn.cluster import KMeans\n",
    "from sklearn.preprocessing import StandardScaler\n",
    "from niftystocks import ns\n",
    "from sklearn.decomposition import PCA"
   ]
  },
  {
   "cell_type": "code",
   "execution_count": 132,
   "metadata": {},
   "outputs": [
    {
     "name": "stdout",
     "output_type": "stream",
     "text": [
      "['HDFCBANK.NS', 'IOC.NS', 'SHREECEM.NS', 'TATAMOTORS.NS', 'ADANIPORTS.NS', 'ULTRACEMCO.NS', 'BHARTIARTL.NS', 'HEROMOTOCO.NS', 'HINDUNILVR.NS', 'GRASIM.NS', 'TATASTEEL.NS', 'UPL.NS', 'AXISBANK.NS', 'HDFC.NS', 'LT.NS', 'POWERGRID.NS', 'SBIN.NS', 'WIPRO.NS', 'INDUSINDBK.NS', 'INFY.NS', 'ONGC.NS', 'BAJAJFINSV.NS', 'CIPLA.NS', 'KOTAKBANK.NS', 'MARUTI.NS', 'TCS.NS', 'TITAN.NS', 'BPCL.NS', 'BRITANNIA.NS', 'EICHERMOT.NS', 'ICICIBANK.NS', 'RELIANCE.NS', 'ASIANPAINT.NS', 'BAJAJ-AUTO.NS', 'NESTLEIND.NS', 'BAJFINANCE.NS', 'COALINDIA.NS', 'HCLTECH.NS', 'HDFCLIFE.NS', 'HINDALCO.NS', 'DRREDDY.NS', 'GAIL.NS', 'DIVISLAB.NS', 'NTPC.NS', 'TECHM.NS', 'ITC.NS', 'JSWSTEEL.NS', 'M&M.NS', 'SBILIFE.NS', 'SUNPHARMA.NS']\n"
     ]
    },
    {
     "name": "stderr",
     "output_type": "stream",
     "text": [
      "[                       0%%                      ]"
     ]
    },
    {
     "name": "stderr",
     "output_type": "stream",
     "text": [
      "[*********************100%%**********************]  50 of 50 completed\n",
      "\n",
      "1 Failed download:\n",
      "['HDFC.NS']: YFTzMissingError('$%ticker%: possibly delisted; No timezone found')\n",
      "/tmp/ipykernel_18192/410076148.py:4: FutureWarning: The default fill_method='pad' in DataFrame.pct_change is deprecated and will be removed in a future version. Either fill in any non-leading NA values prior to calling pct_change or specify 'fill_method=None' to not fill NA values.\n",
      "  returns = data['Adj Close'].pct_change()\n"
     ]
    },
    {
     "name": "stdout",
     "output_type": "stream",
     "text": [
      "Ticker      ADANIPORTS.NS  ASIANPAINT.NS  AXISBANK.NS  BAJAJ-AUTO.NS  \\\n",
      "Date                                                                   \n",
      "2020-01-02       0.014564      -0.001422     0.011019      -0.009238   \n",
      "2020-01-03      -0.001697      -0.021919    -0.018495      -0.015684   \n",
      "2020-01-06      -0.006013      -0.025266    -0.026516      -0.011198   \n",
      "2020-01-07       0.012099       0.010105     0.003457       0.000099   \n",
      "2020-01-08       0.002209       0.002552    -0.001722       0.007011   \n",
      "...                   ...            ...          ...            ...   \n",
      "2020-12-24       0.016569       0.002157     0.029960       0.019670   \n",
      "2020-12-28       0.010448       0.013462     0.012209       0.011838   \n",
      "2020-12-29      -0.000310       0.004807     0.020319       0.004935   \n",
      "2020-12-30       0.004137       0.013942    -0.008093       0.004837   \n",
      "2020-12-31      -0.003399       0.011008    -0.007439      -0.001189   \n",
      "\n",
      "Ticker      BAJAJFINSV.NS  BAJFINANCE.NS  BHARTIARTL.NS   BPCL.NS  \\\n",
      "Date                                                                \n",
      "2020-01-02       0.013558       0.003486       0.004192 -0.008339   \n",
      "2020-01-03      -0.016806      -0.012388      -0.000220 -0.008307   \n",
      "2020-01-06      -0.032437      -0.046918      -0.011975 -0.029679   \n",
      "2020-01-07       0.005855       0.002740      -0.010119 -0.017372   \n",
      "2020-01-08       0.005481       0.010555       0.030892 -0.002386   \n",
      "...                   ...            ...            ...       ...   \n",
      "2020-12-24      -0.002297       0.018865       0.019913  0.008413   \n",
      "2020-12-28       0.000278       0.003703       0.008312  0.013773   \n",
      "2020-12-29      -0.002112      -0.000692      -0.002588 -0.003266   \n",
      "2020-12-30      -0.001599       0.025699      -0.007881  0.003539   \n",
      "2020-12-31      -0.006176      -0.007302      -0.012496 -0.004571   \n",
      "\n",
      "Ticker      BRITANNIA.NS  CIPLA.NS  ...  SHREECEM.NS  SUNPHARMA.NS  \\\n",
      "Date                                ...                              \n",
      "2020-01-02      0.004523 -0.005043  ...     0.044894      0.001497   \n",
      "2020-01-03     -0.004781 -0.007497  ...    -0.005176      0.022186   \n",
      "2020-01-06     -0.005512 -0.006809  ...    -0.002739     -0.010459   \n",
      "2020-01-07      0.004814  0.003964  ...     0.042667      0.014661   \n",
      "2020-01-08     -0.004281 -0.008216  ...     0.021771     -0.014113   \n",
      "...                  ...       ...  ...          ...           ...   \n",
      "2020-12-24     -0.001959  0.010368  ...    -0.002831      0.027584   \n",
      "2020-12-28     -0.004063 -0.003661  ...    -0.004667     -0.005928   \n",
      "2020-12-29     -0.002844 -0.002650  ...     0.005233      0.006219   \n",
      "2020-12-30     -0.002616 -0.005012  ...     0.031892     -0.011175   \n",
      "2020-12-31     -0.002107 -0.004673  ...    -0.023852      0.014298   \n",
      "\n",
      "Ticker      TATAMOTORS.NS  TATASTEEL.NS    TCS.NS  TECHM.NS  TITAN.NS  \\\n",
      "Date                                                                    \n",
      "2020-01-02       0.050420      0.036558 -0.004590  0.005183  0.000736   \n",
      "2020-01-03      -0.013677     -0.002372  0.019929  0.011814 -0.013759   \n",
      "2020-01-06      -0.028519     -0.021604 -0.000091 -0.006064  0.016583   \n",
      "2020-01-07      -0.005117      0.006022  0.002454  0.008697  0.001165   \n",
      "2020-01-08      -0.011640     -0.001785  0.022395 -0.009394 -0.014354   \n",
      "...                   ...           ...       ...       ...       ...   \n",
      "2020-12-24       0.039894      0.001448  0.000206 -0.000949  0.003387   \n",
      "2020-12-28       0.059108      0.016632  0.006891 -0.000158  0.031854   \n",
      "2020-12-29      -0.015562     -0.000711  0.000376  0.019586 -0.002235   \n",
      "2020-12-30       0.003816      0.013050 -0.007234  0.018226  0.008116   \n",
      "2020-12-31      -0.001629      0.004996 -0.016000 -0.010221  0.009371   \n",
      "\n",
      "Ticker      ULTRACEMCO.NS    UPL.NS  WIPRO.NS  \n",
      "Date                                           \n",
      "2020-01-02       0.044231  0.012240  0.002422  \n",
      "2020-01-03      -0.006031 -0.007893  0.011277  \n",
      "2020-01-06      -0.014719 -0.009818  0.004182  \n",
      "2020-01-07       0.020447  0.017266  0.012096  \n",
      "2020-01-08       0.018116  0.009747 -0.001567  \n",
      "...                   ...       ...       ...  \n",
      "2020-12-24       0.002145 -0.005642 -0.008689  \n",
      "2020-12-28       0.019307  0.008901  0.001832  \n",
      "2020-12-29       0.000895  0.002867  0.005484  \n",
      "2020-12-30       0.040414  0.027271 -0.001559  \n",
      "2020-12-31      -0.012437 -0.001606  0.004813  \n",
      "\n",
      "[250 rows x 49 columns]\n"
     ]
    }
   ],
   "source": [
    "get_nifty50 = ns.get_nifty50_with_ns()\n",
    "print(get_nifty50)\n",
    "data = yf.download(get_nifty50, start=\"2020-01-01\", end=\"2021-01-01\")\n",
    "returns = data['Adj Close'].pct_change()\n",
    "returns = returns.iloc[1:]\n",
    "returns = returns.dropna(axis=1)\n",
    "print(returns)\n"
   ]
  },
  {
   "cell_type": "code",
   "execution_count": 133,
   "metadata": {},
   "outputs": [],
   "source": [
    "scaler = StandardScaler()\n",
    "if not returns.empty:\n",
    "    scaled_returns = scaler.fit_transform(returns)\n",
    "else:\n",
    "    raise ValueError(\"The returns DataFrame is empty. Ensure that the data is correctly downloaded and processed.\")\n",
    "\n",
    "kmeans = KMeans(n_clusters=4)\n",
    "kmeans.fit(scaled_returns)\n",
    "clusters = kmeans.predict(scaled_returns)"
   ]
  },
  {
   "cell_type": "code",
   "execution_count": 134,
   "metadata": {},
   "outputs": [
    {
     "name": "stdout",
     "output_type": "stream",
     "text": [
      "Number of stocks: 49\n",
      "Number of clusters: 250\n"
     ]
    },
    {
     "data": {
      "text/html": [
       "<div>\n",
       "<style scoped>\n",
       "    .dataframe tbody tr th:only-of-type {\n",
       "        vertical-align: middle;\n",
       "    }\n",
       "\n",
       "    .dataframe tbody tr th {\n",
       "        vertical-align: top;\n",
       "    }\n",
       "\n",
       "    .dataframe thead th {\n",
       "        text-align: right;\n",
       "    }\n",
       "</style>\n",
       "<table border=\"1\" class=\"dataframe\">\n",
       "  <thead>\n",
       "    <tr style=\"text-align: right;\">\n",
       "      <th></th>\n",
       "      <th>Stock</th>\n",
       "      <th>Cluster</th>\n",
       "    </tr>\n",
       "  </thead>\n",
       "  <tbody>\n",
       "    <tr>\n",
       "      <th>0</th>\n",
       "      <td>ADANIPORTS.NS</td>\n",
       "      <td>0</td>\n",
       "    </tr>\n",
       "    <tr>\n",
       "      <th>1</th>\n",
       "      <td>ASIANPAINT.NS</td>\n",
       "      <td>0</td>\n",
       "    </tr>\n",
       "    <tr>\n",
       "      <th>3</th>\n",
       "      <td>BAJAJ-AUTO.NS</td>\n",
       "      <td>0</td>\n",
       "    </tr>\n",
       "    <tr>\n",
       "      <th>4</th>\n",
       "      <td>BAJAJFINSV.NS</td>\n",
       "      <td>0</td>\n",
       "    </tr>\n",
       "    <tr>\n",
       "      <th>6</th>\n",
       "      <td>BHARTIARTL.NS</td>\n",
       "      <td>0</td>\n",
       "    </tr>\n",
       "  </tbody>\n",
       "</table>\n",
       "</div>"
      ],
      "text/plain": [
       "           Stock  Cluster\n",
       "0  ADANIPORTS.NS        0\n",
       "1  ASIANPAINT.NS        0\n",
       "3  BAJAJ-AUTO.NS        0\n",
       "4  BAJAJFINSV.NS        0\n",
       "6  BHARTIARTL.NS        0"
      ]
     },
     "execution_count": 134,
     "metadata": {},
     "output_type": "execute_result"
    }
   ],
   "source": [
    "print(\"Number of stocks:\", len(returns.columns))\n",
    "print(\"Number of clusters:\", len(clusters))\n",
    "clustered_stocks = pd.DataFrame(list(zip(returns.columns, clusters)), columns=['Stock', 'Cluster'])\n",
    "clustered_stocks.sort_values('Cluster', inplace=True)\n",
    "clustered_stocks.head()"
   ]
  },
  {
   "cell_type": "code",
   "execution_count": 135,
   "metadata": {},
   "outputs": [
    {
     "data": {
      "image/png": "[encoded data removed]",
      "text/plain": [
       "<Figure size 640x480 with 1 Axes>"
      ]
     },
     "metadata": {},
     "output_type": "display_data"
    }
   ],
   "source": [
    "pca = PCA(n_components=2)\n",
    "pca_components = pca.fit_transform(scaled_returns)\n",
    "\n",
    "plt.scatter(pca_components[:, 0], pca_components[:, 1], c=clusters, cmap='viridis')\n",
    "plt.title('Nifty 50 Clustering based upon Returns')\n",
    "plt.show()"
   ]
  }
 ],
 "metadata": {
  "kernelspec": {
   "display_name": "Python 3",
   "language": "python",
   "name": "python3"
  },
  "language_info": {
   "codemirror_mode": {
    "name": "ipython",
    "version": 3
   },
   "file_extension": ".py",
   "mimetype": "text/x-python",
   "name": "python",
   "nbconvert_exporter": "python",
   "pygments_lexer": "ipython3",
   "version": "3.10.12"
  }
 },
 "nbformat": 4,
 "nbformat_minor": 2
}
